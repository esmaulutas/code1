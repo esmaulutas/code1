{
  "nbformat": 4,
  "nbformat_minor": 0,
  "metadata": {
    "colab": {
      "provenance": [],
      "authorship_tag": "ABX9TyMOfq/FtXF1dXmNiz7Sfpcm",
      "include_colab_link": true
    },
    "kernelspec": {
      "name": "python3",
      "display_name": "Python 3"
    },
    "language_info": {
      "name": "python"
    }
  },
  "cells": [
    {
      "cell_type": "markdown",
      "metadata": {
        "id": "view-in-github",
        "colab_type": "text"
      },
      "source": [
        "<a href=\"https://colab.research.google.com/github/esmaulutas/code1/blob/main/akbankbootcamp1.ipynb\" target=\"_parent\"><img src=\"https://colab.research.google.com/assets/colab-badge.svg\" alt=\"Open In Colab\"/></a>"
      ]
    },
    {
      "cell_type": "code",
      "execution_count": null,
      "metadata": {
        "id": "-McBOU21Fnve"
      },
      "outputs": [],
      "source": [
        "class Library:\n",
        "    def __init__(self):\n",
        "        self.file_name = \"books.txt\"\n",
        "        self.file = open(self.file_name, \"a+\")\n",
        "\n",
        "    def __del__(self):\n",
        "        self.file.close()\n",
        "\n",
        "    def list_books(self):\n",
        "        self.file.seek(0)\n",
        "        books = self.file.readlines()\n",
        "        for book in books:\n",
        "            book_info = book.strip().split(',')\n",
        "            print(\"Kitap Adı: {}, Yazarı: {}\".format(book_info[0], book_info[1]))\n",
        "\n",
        "    def add_book(self):\n",
        "        title = input(\"Kitap adını girin: \").lower()  # Girişin tamamen küçük harfe dönüştürülmesi\n",
        "        author = input(\"Kitabın yazarını girin: \")\n",
        "        release_year = input(\"İlk yayın yılını girin: \")\n",
        "        num_pages = input(\"Sayfa sayısını girin: \")\n",
        "        book_info = \"{},{},{},{}\\n\".format(title, author, release_year, num_pages)\n",
        "        self.file.write(book_info)\n",
        "        print(\"Kitap başarıyla eklendi.\")\n",
        "\n",
        "    def remove_book(self):\n",
        "        title = input(\"Silmek istediğiniz kitabın başlığını girin: \").lower()  # Girişin tamamen küçük harfe dönüştürülmesi\n",
        "        self.file.seek(0)\n",
        "        books = self.file.readlines()\n",
        "        updated_books = []\n",
        "        removed = False\n",
        "        for book in books:\n",
        "            book_info = book.strip().split(',')\n",
        "            if book_info[0].lower() != title:  # Karşılaştırma için girişin tamamen küçük harfe dönüştürülmesi\n",
        "                updated_books.append(book)\n",
        "            else:\n",
        "                removed = True\n",
        "        if removed:\n",
        "            self.file.seek(0)\n",
        "            self.file.truncate()\n",
        "            self.file.writelines(updated_books)\n",
        "            print(\"Kitap başarıyla silindi.\")\n",
        "        else:\n",
        "            print(\"Kitap bulunamadı.\")\n",
        "\n",
        "lib = Library()\n",
        "\n",
        "while True:\n",
        "    print(\"\\n*** MENÜ ***\")\n",
        "    print(\"1) Kitapları Listele\")\n",
        "    print(\"2) Kitap Ekle\")\n",
        "    print(\"3) Kitap Sil\")\n",
        "    print(\"4) q (Çıkış)\")\n",
        "    choice = input(\"Lütfen seçiminizi yapın (1/2/3/4): \")\n",
        "\n",
        "    if choice == '1':\n",
        "        lib.list_books()\n",
        "    elif choice == '2':\n",
        "        lib.add_book()\n",
        "    elif choice == '3':\n",
        "        lib.remove_book()\n",
        "    elif choice == '4' or choice.lower() == 'q':\n",
        "        print(\"Programdan çıkılıyor...\")\n",
        "        break\n",
        "    else:\n",
        "        print(\"Geçersiz seçim. Lütfen 1, 2, 3 veya 4'ü seçin.\")"
      ]
    }
  ]
}